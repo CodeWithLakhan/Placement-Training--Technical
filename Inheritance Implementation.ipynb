{
 "cells": [
  {
   "cell_type": "code",
   "execution_count": 5,
   "id": "302fa41e-d389-4be1-9e65-4a378586895e",
   "metadata": {},
   "outputs": [
    {
     "name": "stdout",
     "output_type": "stream",
     "text": [
      "Employee is working\n",
      "3000\n",
      "HR is Working\n",
      "HR Manager's salary is: 5000\n",
      "Employee added: Lakhan Agrawal\n",
      "Showing employee details\n"
     ]
    }
   ],
   "source": [
    "# Write a Python program to create a class called Employee\n",
    "# with methods called work() and getSalary() (in getSalary()\n",
    "# assign salary in HRManager constructor).\n",
    "# Create a subclass called HRManager that overrides the\n",
    "# work() method and adds a new method called addEmployee().\n",
    "# showEmployee()\n",
    "\n",
    "class Employee:\n",
    "    def __init__(self, salary, name):\n",
    "        self.salary = salary\n",
    "        self.name = name\n",
    "\n",
    "    def work(self):\n",
    "        print(\"Employee is working\")\n",
    "\n",
    "    def getSalary(self):\n",
    "        return self.salary\n",
    "\n",
    "class HRManager(Employee):\n",
    "    def __init__(self):\n",
    "        super().__init__(5000, \"HR Manager\") \n",
    "    def work(self):\n",
    "        print(\"HR is Working\")\n",
    "\n",
    "    def getSalary(self): \n",
    "        print(f\"HR Manager's salary is: {self.salary}\")\n",
    "\n",
    "    def addEmployee(self, name):\n",
    "        print(f\"Employee added: {name}\")\n",
    "\n",
    "    def showEmployee(self):\n",
    "        print(\"Showing employee details\")\n",
    "\n",
    "# Example usage\n",
    "obj = Employee(3000, \"Lakhan Agrawal\")\n",
    "obj.work()                \n",
    "print(obj.getSalary()) \n",
    "obj1 = HRManager()        \n",
    "obj1.work()               \n",
    "obj1.getSalary()          \n",
    "obj1.addEmployee(\"Lakhan Agrawal\")  \n",
    "obj1.showEmployee()"
   ]
  },
  {
   "cell_type": "code",
   "execution_count": null,
   "id": "baead585-2cc1-4a63-bc49-d7ef79b99a03",
   "metadata": {},
   "outputs": [],
   "source": []
  }
 ],
 "metadata": {
  "kernelspec": {
   "display_name": "Python 3 (ipykernel)",
   "language": "python",
   "name": "python3"
  },
  "language_info": {
   "codemirror_mode": {
    "name": "ipython",
    "version": 3
   },
   "file_extension": ".py",
   "mimetype": "text/x-python",
   "name": "python",
   "nbconvert_exporter": "python",
   "pygments_lexer": "ipython3",
   "version": "3.12.4"
  }
 },
 "nbformat": 4,
 "nbformat_minor": 5
}
