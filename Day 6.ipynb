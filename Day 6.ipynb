{
 "cells": [
  {
   "cell_type": "code",
   "execution_count": 12,
   "id": "a598e923-a147-40af-b4bc-522994fa42cc",
   "metadata": {},
   "outputs": [
    {
     "data": {
      "text/plain": [
       "True"
      ]
     },
     "execution_count": 12,
     "metadata": {},
     "output_type": "execute_result"
    }
   ],
   "source": [
    "# Power of 4 (16=4^2)\n",
    "def p4(n):\n",
    "    if n <= 0:\n",
    "        return False\n",
    "    while n % 4 == 0:\n",
    "        n /= 4\n",
    "    return n == 1\n",
    "\n",
    "p4(16)"
   ]
  },
  {
   "cell_type": "code",
   "execution_count": 57,
   "id": "8b058322-9842-41e6-a6b3-d2a740a32388",
   "metadata": {},
   "outputs": [
    {
     "name": "stdout",
     "output_type": "stream",
     "text": [
      "yes\n"
     ]
    }
   ],
   "source": [
    "# Is array equal ?\n",
    "a = [1,2,5,4,0]\n",
    "b = [2,4,5,1,0]\n",
    "\n",
    "flag = False\n",
    "if(len(a)==len(b)):\n",
    "    i=0\n",
    "    while(i<len(a)):\n",
    "        if a[i] in b:\n",
    "            flag = True\n",
    "            i = i+1\n",
    "        else:\n",
    "            flag = False\n",
    "            break\n",
    "    if(flag == True):\n",
    "        i=0\n",
    "        while(i<len(b)):\n",
    "            if b[i] in a:\n",
    "                flag = True\n",
    "                i = i+1\n",
    "            else:\n",
    "                flag = False\n",
    "                break\n",
    "\n",
    "if flag == True:\n",
    "    print(\"yes\")\n",
    "else:\n",
    "    print(\"no\")\n"
   ]
  },
  {
   "cell_type": "code",
   "execution_count": 18,
   "id": "c1163bf8-f054-4b6b-bce6-cfd6ff1f7f62",
   "metadata": {},
   "outputs": [
    {
     "name": "stdout",
     "output_type": "stream",
     "text": [
      "4\n"
     ]
    }
   ],
   "source": [
    "# Majority element\n",
    "\n",
    "dict = {}\n",
    "arr = [3,3,4,2,4,4,2,4,4]\n",
    "for i in arr:\n",
    "    if i not in dict:\n",
    "        dict[i] = 1\n",
    "    else:\n",
    "        dict[i] += 1\n",
    "\n",
    "max = dict[arr[0]]\n",
    "for i in dict:\n",
    "    if dict[i]>max:\n",
    "        max= dict[i]\n",
    "for k,v in dict.items():\n",
    "    if v==max:\n",
    "        max=k\n",
    "print(max)"
   ]
  },
  {
   "cell_type": "code",
   "execution_count": 21,
   "id": "e74e423b-1861-4964-984a-2a5f0008e954",
   "metadata": {},
   "outputs": [
    {
     "name": "stdout",
     "output_type": "stream",
     "text": [
      "[1, 3, 12, 0, 0, 0, 0]\n"
     ]
    }
   ],
   "source": [
    "# move zeors to end\n",
    "arr = [0,1,0,0,3,12,0] \n",
    "\n",
    "i=0\n",
    "j=1\n",
    "while(j<len(arr)):\n",
    "    if(arr[i]==0 and arr[j]!=0):\n",
    "        temp = arr[i]\n",
    "        arr[i] = arr[j]\n",
    "        arr[j] = temp\n",
    "        i = i+1\n",
    "        j = j+1\n",
    "\n",
    "    elif(arr[i]==0 and arr[j]==0 and j<len(arr)):\n",
    "        j = j+1\n",
    "    \n",
    "        \n",
    "print(arr)  "
   ]
  },
  {
   "cell_type": "code",
   "execution_count": 33,
   "id": "fc54f679-ef21-484d-a374-340a930cc2ce",
   "metadata": {},
   "outputs": [
    {
     "data": {
      "text/plain": [
       "[1, 3, 6]"
      ]
     },
     "execution_count": 33,
     "metadata": {},
     "output_type": "execute_result"
    }
   ],
   "source": [
    "# Intersection of 3 arrays\n",
    "a1 = [1,2,3,6,7]\n",
    "a2 = [2,3,1,6,7]\n",
    "a3 = [3,4,1,6]\n",
    "ans = []\n",
    "for i in a1:\n",
    "    if ((i in a2) and (i in a3)):\n",
    "        ans.append(i)\n",
    "ans"
   ]
  },
  {
   "cell_type": "code",
   "execution_count": 39,
   "id": "aac8bdee-27ec-4d14-8010-14b0fbc1634a",
   "metadata": {},
   "outputs": [
    {
     "name": "stdout",
     "output_type": "stream",
     "text": [
      "4\n"
     ]
    }
   ],
   "source": [
    "r = 7\n",
    "unit = 2\n",
    "arr = [2,8,3,5,7,4,1,2]\n",
    "n = len(arr)\n",
    "req = r*unit\n",
    "sum = 0\n",
    "count = 0\n",
    "for i in arr:\n",
    "    sum = sum + i\n",
    "    count = count + 1\n",
    "    if sum>=req:\n",
    "        break\n",
    "\n",
    "if sum<req:\n",
    "    print(0)\n",
    "else:\n",
    "    print(count)"
   ]
  },
  {
   "cell_type": "code",
   "execution_count": 59,
   "id": "18f6eac0-3444-476a-82b5-5b224ce73cdc",
   "metadata": {},
   "outputs": [
    {
     "data": {
      "text/plain": [
       "12"
      ]
     },
     "execution_count": 59,
     "metadata": {},
     "output_type": "execute_result"
    }
   ],
   "source": [
    "arr = [10,11,7,12,14]\n",
    "sum = 0\n",
    "for i in range(len(arr)-1):\n",
    "    sum = sum + abs(arr[i+1]-arr[i])\n",
    "\n",
    "sum"
   ]
  },
  {
   "cell_type": "code",
   "execution_count": 79,
   "id": "69903954-5fc9-4987-98ef-8d17af9fdeba",
   "metadata": {},
   "outputs": [
    {
     "data": {
      "text/plain": [
       "4"
      ]
     },
     "execution_count": 79,
     "metadata": {},
     "output_type": "execute_result"
    }
   ],
   "source": [
    "n = \"57837892311111\"\n",
    "c = 0\n",
    "s = set()\n",
    "for i in range(len(n)):\n",
    "    for j in range(i+1,len(n)):\n",
    "        if n[i]==n[j]:\n",
    "            s.add(n[i])\n",
    "            break\n",
    "\n",
    "len(s)"
   ]
  },
  {
   "cell_type": "code",
   "execution_count": 107,
   "id": "610c3119-b18c-4758-aa70-ea4bb8d4fa85",
   "metadata": {},
   "outputs": [
    {
     "data": {
      "text/plain": [
       "8"
      ]
     },
     "execution_count": 107,
     "metadata": {},
     "output_type": "execute_result"
    }
   ],
   "source": [
    "# 2nd largets\n",
    "a = [3,5,1,10,8]\n",
    "max = a[0]\n",
    "lmax= max\n",
    "for i in a:\n",
    "    if i>max:\n",
    "        lmax = max\n",
    "        max=i\n",
    "    elif i > lmax:\n",
    "        llmax = lmax     \n",
    "        lmax = i    \n",
    "\n",
    "lmax"
   ]
  },
  {
   "cell_type": "code",
   "execution_count": 103,
   "id": "b1b597eb-dbbf-4acd-8f03-2b8cc13e23b4",
   "metadata": {},
   "outputs": [
    {
     "name": "stdout",
     "output_type": "stream",
     "text": [
      "10\n",
      "8\n",
      "5\n"
     ]
    }
   ],
   "source": [
    "# 3rd largest\n",
    "a=[3,1,8,10,5]\n",
    "max=a[0]\n",
    "lmax = max\n",
    "llmax=lmax\n",
    "for i in a:\n",
    "    if i>max:\n",
    "        llmax=lmax\n",
    "        lmax = max\n",
    "        max = i\n",
    "    elif i > lmax:\n",
    "        llmax = lmax     \n",
    "        lmax = i         \n",
    "    elif i > llmax:\n",
    "        llmax = i\n",
    "\n",
    "print(max)\n",
    "print(lmax)\n",
    "print(llmax)"
   ]
  },
  {
   "cell_type": "code",
   "execution_count": 10,
   "id": "411ce81a-e722-4ab4-a182-c799e12b8113",
   "metadata": {},
   "outputs": [
    {
     "data": {
      "text/plain": [
       "3"
      ]
     },
     "execution_count": 10,
     "metadata": {},
     "output_type": "execute_result"
    }
   ],
   "source": [
    "# find kth smallest in list\n",
    "def sort(arr):\n",
    "    n=len(arr)\n",
    "    for i in range(n):\n",
    "        min=i\n",
    "        for j in range(i+1,n):\n",
    "            if(arr[j]<arr[min]):\n",
    "                min=j\n",
    "        temp = arr[min]\n",
    "        arr[min] = arr[i]\n",
    "        arr[i] = temp\n",
    "    return arr\n",
    "        \n",
    "arr = [5,2,8,3,1,9,4]\n",
    "arr=sort(arr)\n",
    "k=3\n",
    "arr[k-1]"
   ]
  },
  {
   "cell_type": "code",
   "execution_count": 1,
   "id": "792d932d-73e2-4455-93ae-c8e01085e718",
   "metadata": {},
   "outputs": [
    {
     "data": {
      "text/plain": [
       "465577"
      ]
     },
     "execution_count": 1,
     "metadata": {},
     "output_type": "execute_result"
    }
   ],
   "source": [
    "# Compute the nearest larger number by interchanging its\n",
    "# digits updated. Given 2 numbers a and b find the smallest\n",
    "# number greater than b by interchanging the digits of a and if\n",
    "# not possible print -1.\n",
    "\n",
    "from itertools import permutations\n",
    "\n",
    "def generate_permutations(number):\n",
    "    number_str = str(number)\n",
    "    perm = permutations (number_str)\n",
    "    perm_list = [''.join(p) for p in perm]\n",
    "    return perm_list\n",
    "\n",
    "number = 645757\n",
    "b = 457765\n",
    "permu = generate_permutations (number)\n",
    "g = []\n",
    "for i in permu:\n",
    "    if int(i)>b:\n",
    "        g.append(int(i))\n",
    "g.sort()\n",
    "g[0]"
   ]
  },
  {
   "cell_type": "code",
   "execution_count": 44,
   "id": "c7a233b9-6d85-4116-a92f-926587b0c0bc",
   "metadata": {},
   "outputs": [
    {
     "data": {
      "text/plain": [
       "['5057', '3636', '5858']"
      ]
     },
     "execution_count": 44,
     "metadata": {},
     "output_type": "execute_result"
    }
   ],
   "source": [
    "s = \"This is alpha 5057 and 597 3636 5858 393\"\n",
    "l = s.split(' ')\n",
    "ans=[]\n",
    "for i in l:\n",
    "    if i.isdigit():\n",
    "        f = True\n",
    "        for j in i:\n",
    "            if j == '9':\n",
    "                f = False\n",
    "        if f==True:\n",
    "            ans.append(i)\n",
    "\n",
    "ans\n",
    "        \n",
    "    "
   ]
  },
  {
   "cell_type": "code",
   "execution_count": null,
   "id": "8913eb09-012c-49f4-bf29-446639f3e947",
   "metadata": {},
   "outputs": [],
   "source": []
  }
 ],
 "metadata": {
  "kernelspec": {
   "display_name": "Python 3 (ipykernel)",
   "language": "python",
   "name": "python3"
  },
  "language_info": {
   "codemirror_mode": {
    "name": "ipython",
    "version": 3
   },
   "file_extension": ".py",
   "mimetype": "text/x-python",
   "name": "python",
   "nbconvert_exporter": "python",
   "pygments_lexer": "ipython3",
   "version": "3.12.4"
  }
 },
 "nbformat": 4,
 "nbformat_minor": 5
}
