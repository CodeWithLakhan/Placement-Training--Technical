{
 "cells": [
  {
   "cell_type": "code",
   "execution_count": 1,
   "id": "44526c1f-aef8-41c3-ad40-17c84fde88e2",
   "metadata": {},
   "outputs": [
    {
     "name": "stdout",
     "output_type": "stream",
     "text": [
      "100\n",
      "222\n"
     ]
    },
    {
     "ename": "NameError",
     "evalue": "name 'a' is not defined",
     "output_type": "error",
     "traceback": [
      "\u001b[1;31m---------------------------------------------------------------------------\u001b[0m",
      "\u001b[1;31mNameError\u001b[0m                                 Traceback (most recent call last)",
      "Cell \u001b[1;32mIn[1], line 14\u001b[0m\n\u001b[0;32m     12\u001b[0m t \u001b[38;5;241m=\u001b[39m test()\n\u001b[0;32m     13\u001b[0m t\u001b[38;5;241m.\u001b[39mfunc1()\n\u001b[1;32m---> 14\u001b[0m t\u001b[38;5;241m.\u001b[39mfunc2()\n",
      "Cell \u001b[1;32mIn[1], line 10\u001b[0m, in \u001b[0;36mtest.func2\u001b[1;34m(self)\u001b[0m\n\u001b[0;32m      8\u001b[0m c\u001b[38;5;241m=\u001b[39m\u001b[38;5;241m333\u001b[39m\n\u001b[0;32m      9\u001b[0m \u001b[38;5;28mprint\u001b[39m(b)\n\u001b[1;32m---> 10\u001b[0m \u001b[38;5;28mprint\u001b[39m(a)\n",
      "\u001b[1;31mNameError\u001b[0m: name 'a' is not defined"
     ]
    }
   ],
   "source": [
    "#Local Variable\n",
    "class test:\n",
    "    def func1(self):\n",
    "        a = 100\n",
    "        print(a)\n",
    "    def func2(self):\n",
    "        b=222\n",
    "        c=333\n",
    "        print(b)\n",
    "        print(a)\n",
    "\n",
    "t = test()\n",
    "t.func1()\n",
    "t.func2()"
   ]
  },
  {
   "cell_type": "code",
   "execution_count": 3,
   "id": "a757a1eb-e464-4438-9621-6601c9378de9",
   "metadata": {},
   "outputs": [],
   "source": [
    "# Setter and Getter Methods:\n",
    "\n",
    "# We can set and get the values of instance variables\n",
    "# by using getter and setter methods.\n",
    "\n",
    "# Setter Method:\n",
    "\n",
    "# setter methods is used to set values to the instance\n",
    "# variables and also known as mutator methods.\n",
    "\n",
    "# Syntax:\n",
    "\n",
    "# def setVariable(self,variable):\n",
    "# self.variable=variable\n",
    "\n",
    "# Getter Method:\n",
    "\n",
    "# Getter methods can be used to get values of the instance\n",
    "# variables. Getter methods also known as accessor methods."
   ]
  },
  {
   "cell_type": "code",
   "execution_count": 7,
   "id": "62ba3466-fac2-462e-8f99-40cf68d7189e",
   "metadata": {},
   "outputs": [
    {
     "name": "stdin",
     "output_type": "stream",
     "text": [
      "Enter no of students 3\n",
      "Enter Student Name :  Lakhan\n",
      "Enter Student Percentage :  100\n"
     ]
    },
    {
     "name": "stdout",
     "output_type": "stream",
     "text": [
      "Hi  Lakhan  Your Percentage is :  100\n",
      "\n"
     ]
    },
    {
     "name": "stdin",
     "output_type": "stream",
     "text": [
      "Enter Student Name :  Krushna\n",
      "Enter Student Percentage :  99\n"
     ]
    },
    {
     "name": "stdout",
     "output_type": "stream",
     "text": [
      "Hi  Krushna  Your Percentage is :  99\n",
      "\n"
     ]
    },
    {
     "name": "stdin",
     "output_type": "stream",
     "text": [
      "Enter Student Name :  Ayush\n",
      "Enter Student Percentage :  98\n"
     ]
    },
    {
     "name": "stdout",
     "output_type": "stream",
     "text": [
      "Hi  Ayush  Your Percentage is :  98\n",
      "\n"
     ]
    }
   ],
   "source": [
    "class Student:\n",
    "    def setName(self,name):\n",
    "        self.name=name\n",
    "\n",
    "    def getName(self):\n",
    "        return self.name\n",
    "\n",
    "    def setPercentage(self,percentage):\n",
    "        self.percentage=percentage\n",
    "\n",
    "    def getPercentage(self):\n",
    "        return self.percentage\n",
    "\n",
    "n=int(input(\"Enter no of students\"))\n",
    "s=Student()\n",
    "for i in range(n):\n",
    "    name=input(\"Enter Student Name : \")\n",
    "    s.setName(name)\n",
    "    percentage=int(input(\"Enter Student Percentage : \"))\n",
    "    s.setPercentage(percentage)\n",
    "    print(\"Hi \",s.getName(),\" Your Percentage is : \",s.getPercentage())\n",
    "    print()\n",
    "\n"
   ]
  },
  {
   "cell_type": "code",
   "execution_count": 13,
   "id": "322ea208-033e-4ea9-af2b-5572371b5f23",
   "metadata": {},
   "outputs": [
    {
     "name": "stdout",
     "output_type": "stream",
     "text": [
      "Employee no: 101\n",
      "Employee ename: Ashish\n",
      "Employee salary :  20000\n",
      "Employee no: 101\n",
      "Employee ename: Ashish\n",
      "Employee salary :  28000\n"
     ]
    }
   ],
   "source": [
    "class Employee:\n",
    "    def __init__(self, no, name, sal):\n",
    "        self.eno=no\n",
    "        self.ename=name\n",
    "        self.esal=sal\n",
    "    def showDetails(self):\n",
    "        print(\"Employee no:\",self.eno)\n",
    "        print(\"Employee ename:\",self.ename)\n",
    "        print(\"Employee salary : \",self.esal)\n",
    "\n",
    "class Test:\n",
    "    def updates(Employee):\n",
    "        Employee.esal=Employee.esal+8000\n",
    "        Employee. showDetails()\n",
    "\n",
    "e=Employee(101,\"Ashish\",20000)\n",
    "e. showDetails()\n",
    "Test.updates(e)\n",
    "\n"
   ]
  },
  {
   "cell_type": "code",
   "execution_count": 15,
   "id": "61e5eb77-6152-4423-9a36-a5e153f20699",
   "metadata": {},
   "outputs": [],
   "source": [
    "# Inner class :-\n",
    "# When we declare class inside another class that are called as inner\n",
    "# class\n",
    "\n",
    "# Why should we go for inner class?\n",
    "# . When without existing one type of object there will be no chance to\n",
    "# exist another type of object that time we should go for inner class\n",
    "# . It increase the encapsulation\n",
    "# . It improves code readability and maintainable code"
   ]
  },
  {
   "cell_type": "code",
   "execution_count": 17,
   "id": "d7e4c597-800e-4da1-9a8f-178bdcfa063f",
   "metadata": {},
   "outputs": [
    {
     "name": "stdout",
     "output_type": "stream",
     "text": [
      "NMIMS default constructor\n",
      "NMIMS-CE default constructor\n",
      "techfest\n",
      "NMIMS default constructor\n",
      "NMIMS-CE default constructor\n",
      "techfest\n",
      "NMIMS default constructor\n",
      "NMIMS-CE default constructor\n",
      "techfest\n"
     ]
    }
   ],
   "source": [
    "class NMIMS:\n",
    "    def __init__(self):\n",
    "        print(\"NMIMS default constructor\")\n",
    "    class CE:\n",
    "        def __init__(self):\n",
    "            print(\"NMIMS-CE default constructor\")\n",
    "        def techFest(self):\n",
    "            print(\"techfest\")\n",
    "\n",
    "obj1 = NMIMS()\n",
    "obj2=obj1.CE()\n",
    "obj2.techFest()\n",
    "\n",
    "obj3=NMIMS().CE()\n",
    "obj3.techFest()\n",
    "\n",
    "NMIMS().CE().techFest()"
   ]
  },
  {
   "cell_type": "code",
   "execution_count": 19,
   "id": "d1e6c57a-827a-4eee-b362-021a7b2e3353",
   "metadata": {},
   "outputs": [],
   "source": [
    "# Garbage Collection in python\n",
    "# . As a programmer in C and C++ language we have responsibility to\n",
    "# creating and deleting a objects.\n",
    "# . In development time, if we forget to delete the object and at\n",
    "# runtime of application, so many unused objects take memory so\n",
    "# memory related issues may come over there.\n",
    "# . In python we have garbage collection concept which running in\n",
    "# background continuously to finding unused object and delete that\n",
    "# objects also.\n",
    "\n",
    "# . By using garbage collector the probability of application failure\n",
    "# due to memory issues is very less."
   ]
  },
  {
   "cell_type": "code",
   "execution_count": 27,
   "id": "7d2f665c-47fd-4817-9300-dcecb2b82184",
   "metadata": {},
   "outputs": [
    {
     "name": "stdout",
     "output_type": "stream",
     "text": [
      "Contruction is called\n",
      "hehe\n",
      "Destructor is called\n",
      "Application is ended\n"
     ]
    }
   ],
   "source": [
    "import gc\n",
    "\n",
    "class Time:\n",
    "    def __init__(self):\n",
    "        print(\"Contruction is called\")\n",
    "\n",
    "    def __del__(self):\n",
    "        print(\"Destructor is called\")\n",
    "\n",
    "t=Time()\n",
    "print(\"hehe\")\n",
    "t=None\n",
    "print(\"Application is ended\")"
   ]
  },
  {
   "cell_type": "code",
   "execution_count": 29,
   "id": "9050a942-2ab5-4760-ab69-214d42ddabd2",
   "metadata": {},
   "outputs": [],
   "source": [
    "# Overloading\n",
    "# Assigning additional task to function is called function overloading\n",
    "# Assigning additional task to constructor is called constructor overloading\n",
    "# Assigning additional task to operator is called operator overloading"
   ]
  },
  {
   "cell_type": "code",
   "execution_count": 39,
   "id": "82f7d852-8cf8-42e5-ba0d-c066577ac005",
   "metadata": {},
   "outputs": [
    {
     "name": "stdout",
     "output_type": "stream",
     "text": [
      "Two argument method:  30\n"
     ]
    }
   ],
   "source": [
    "class Test:\n",
    "    def __init__(self):\n",
    "        print(\"No argument method\")\n",
    "    def __init__(self,a):\n",
    "        print(\"One argument method:\",a)\n",
    "    def __init__(self,a,b):\n",
    "        print(\"Two argument method: \",(a+b))\n",
    "\n",
    "\n",
    "t = Test(10,20)"
   ]
  },
  {
   "cell_type": "code",
   "execution_count": 41,
   "id": "c4ea97da-00ca-4014-987b-79c5cc3d07b4",
   "metadata": {},
   "outputs": [
    {
     "name": "stdout",
     "output_type": "stream",
     "text": [
      "Constructor with 0,1,2,3 arguments None None None\n",
      "Constructor with 0,1,2,3 arguments 10 None None\n",
      "Constructor with 0,1,2,3 arguments 10 20 None\n",
      "Constructor with 0,1,2,3 arguments 10 20 30\n"
     ]
    }
   ],
   "source": [
    "# How to achieve  constructor overloading in python\n",
    "class Test:\n",
    "    def __init__(self,a=None,b=None,c=None):\n",
    "        print(\"Constructor with 0,1,2,3 arguments\",a,b,c)\n",
    "\n",
    "t = Test()\n",
    "t = Test(10)\n",
    "t = Test(10,20)\n",
    "t = Test(10,20,30)"
   ]
  },
  {
   "cell_type": "code",
   "execution_count": 57,
   "id": "69550e42-a699-4fc0-ba11-a587a14ea3b9",
   "metadata": {},
   "outputs": [
    {
     "name": "stdout",
     "output_type": "stream",
     "text": [
      "I am class A\n",
      "I am class A\n",
      "I am class B\n"
     ]
    }
   ],
   "source": [
    "# Inheritance\n",
    "# Extending property fo one class to another\n",
    "# Single level \n",
    "class A:\n",
    "    def showA(self):\n",
    "        print(\"I am class A\")\n",
    "class B(A):\n",
    "    def showB(self):\n",
    "        print(\"I am class B\")\n",
    "\n",
    "objA= A()\n",
    "objA.showA()\n",
    "objB = B()\n",
    "objB.showA()\n",
    "objB.showB()"
   ]
  },
  {
   "cell_type": "code",
   "execution_count": 59,
   "id": "d3a59ea3-c0a1-49c9-bea0-8022c5ce9d93",
   "metadata": {},
   "outputs": [
    {
     "name": "stdout",
     "output_type": "stream",
     "text": [
      "I am class A\n",
      "I am class B\n",
      "I am class C\n"
     ]
    }
   ],
   "source": [
    "# Multi Level\n",
    "class A:\n",
    "    def showA(self):\n",
    "        print(\"I am class A\")\n",
    "class B(A):\n",
    "    def showB(self):\n",
    "        print(\"I am class B\")\n",
    "class C(B):\n",
    "    def showC(self):\n",
    "        print(\"I am class C\")\n",
    "\n",
    "objC= C()\n",
    "objC.showA()\n",
    "objC.showB()\n",
    "objC.showC()"
   ]
  },
  {
   "cell_type": "code",
   "execution_count": 49,
   "id": "a2f1b0c4-6cf5-44b6-b9bd-9a8d5b5814f6",
   "metadata": {},
   "outputs": [
    {
     "name": "stdout",
     "output_type": "stream",
     "text": [
      "I am class A\n",
      "I am class B\n",
      "I am class C\n"
     ]
    }
   ],
   "source": [
    "# Multiple\n",
    "\n",
    "class A:\n",
    "    def showA(self):\n",
    "        print(\"I am class A\")\n",
    "class B:\n",
    "    def showB(self):\n",
    "        print(\"I am class B\")\n",
    "class C(B,A):\n",
    "    def showC(self):\n",
    "        print(\"I am class C\")\n",
    "\n",
    "obj1= C()\n",
    "obj1.showA()\n",
    "obj1.showB()\n",
    "obj1.showC()"
   ]
  },
  {
   "cell_type": "code",
   "execution_count": 61,
   "id": "9e137bd9-a7f8-4e16-806e-c17129927a8f",
   "metadata": {},
   "outputs": [
    {
     "name": "stdout",
     "output_type": "stream",
     "text": [
      "I am class A\n",
      "I am class A\n",
      "I am class A\n"
     ]
    }
   ],
   "source": [
    "# Heirarchical\n",
    "\n",
    "class A:\n",
    "    def showA(self):\n",
    "        print(\"I am class A\")\n",
    "class B(A):\n",
    "    def showB(self):\n",
    "        print(\"I am class B\")\n",
    "class C(A):\n",
    "    def showC(self):\n",
    "        print(\"I am class C\")\n",
    "class D(A):\n",
    "    def showD(self):\n",
    "        print(\"I am class D\")\n",
    "\n",
    "objB= B()\n",
    "objC= C()\n",
    "objD= D()\n",
    "objB.showA()\n",
    "objC.showA()\n",
    "objD.showA()"
   ]
  },
  {
   "cell_type": "code",
   "execution_count": 63,
   "id": "0fb4ff44-a34b-44e3-a41d-b6752aa61f4d",
   "metadata": {},
   "outputs": [
    {
     "name": "stdout",
     "output_type": "stream",
     "text": [
      "I am class A\n",
      "I am class A\n",
      "I am class A\n",
      "I am class B\n",
      "I am class D\n"
     ]
    }
   ],
   "source": [
    "# Hybrid \n",
    "class A:\n",
    "    def showA(self):\n",
    "        print(\"I am class A\")\n",
    "class B(A):\n",
    "    def showB(self):\n",
    "        print(\"I am class B\")\n",
    "class C(A):\n",
    "    def showC(self):\n",
    "        print(\"I am class C\")\n",
    "class D(B,C):\n",
    "    def showD(self):\n",
    "        print(\"I am class D\")\n",
    "\n",
    "objB= B()\n",
    "objC= C()\n",
    "objD= D()\n",
    "objB.showA()\n",
    "objC.showA()\n",
    "objD.showA()\n",
    "objD.showB()\n",
    "objD.showC()"
   ]
  },
  {
   "cell_type": "code",
   "execution_count": 67,
   "id": "12b1af1f-cace-49cc-918f-4db243da7839",
   "metadata": {},
   "outputs": [
    {
     "name": "stdout",
     "output_type": "stream",
     "text": [
      "Cash, Gold\n",
      "HB\n"
     ]
    }
   ],
   "source": [
    "# Overriding\n",
    "# if child class is not satisfied by function written in parent class then \n",
    "# child can re write that function defination\n",
    "\n",
    "class Parent:\n",
    "    def __init__(self):\n",
    "        print(\"Cash, Gold\")\n",
    "    def bike(self):\n",
    "        print(\"Splender+\")\n",
    "\n",
    "class Child(Parent):\n",
    "    def bike(self):\n",
    "        print(\"HB\")\n",
    "\n",
    "obj=Child()\n",
    "obj.bike()"
   ]
  },
  {
   "cell_type": "markdown",
   "id": "96bc36cb-b524-4c53-9654-c40755a2f197",
   "metadata": {},
   "source": [
    "# Abstraction\n",
    "> hinding the unneccesary details from the user and showing essential data to the user\n",
    "> \n",
    "A class that contains one or more abstract methods is called as\n",
    "abstract class.\n",
    "An abstract method has a declaration but does not have an\n",
    "implementation.\n",
    "It allows us to create a set of methods that must be created &\n",
    "implemented by child classes.\n",
    "A method becomes abstract when decorated with the keyword\n",
    "@abstractmethod.\n",
    "100% abstraction"
   ]
  },
  {
   "cell_type": "code",
   "execution_count": 77,
   "id": "2cbbcd1b-0857-4415-a381-fc352fa4e757",
   "metadata": {},
   "outputs": [
    {
     "name": "stdout",
     "output_type": "stream",
     "text": [
      "m1 Method implementation\n",
      "m2 method implementation\n"
     ]
    }
   ],
   "source": [
    "from abc import ABC, abstractmethod\n",
    "class Test(ABC):\n",
    "    @abstractmethod\n",
    "    def m1(self):\n",
    "        pass\n",
    "    @abstractmethod\n",
    "    def m2(self):\n",
    "        pass\n",
    "\n",
    "class MyPython(Test):\n",
    "    def m1(self):\n",
    "        print(\"m1 Method implementation\")\n",
    "    def m2(self):\n",
    "        print(\"m2 method implementation\")\n",
    "\n",
    "m = MyPython()\n",
    "m.m1()\n",
    "m.m2()"
   ]
  },
  {
   "cell_type": "code",
   "execution_count": 79,
   "id": "3d1d121f-edfc-49ba-9065-0241f826a4c6",
   "metadata": {},
   "outputs": [
    {
     "name": "stdout",
     "output_type": "stream",
     "text": [
      "m1 method implementation\n",
      "m2 method implemented\n"
     ]
    }
   ],
   "source": [
    "from abc import ABC, abstractmethod\n",
    "class Test(ABC):\n",
    "  @abstractmethod\n",
    "  def m1(self):\n",
    "    pass\n",
    "  \n",
    "  def m2(self):\n",
    "    print(\"m2 method implemented\")\n",
    "\n",
    "class MyPython(Test):\n",
    "  @abstractmethod\n",
    "  def m1(self):\n",
    "    pass\n",
    "\n",
    "class Child(MyPython):\n",
    "  def m1(self):\n",
    "    print(\"m1 method implementation\")\n",
    "\n",
    "m=Child()\n",
    "m.m1()\n",
    "m.m2()"
   ]
  },
  {
   "cell_type": "code",
   "execution_count": 91,
   "id": "d7f6b976-ad73-429e-bc9a-cbb7d4e2fdd6",
   "metadata": {},
   "outputs": [
    {
     "name": "stdout",
     "output_type": "stream",
     "text": [
      "100\n",
      "200\n",
      "300\n",
      "100\n",
      "200\n",
      "100\n",
      "200\n",
      "300\n"
     ]
    }
   ],
   "source": [
    "# Encapsulation\n",
    "# Public = Protected (in python)\n",
    "# __varName (this is how priavted variable is declared in python )\n",
    "\n",
    "# mangling: we can access private data members\n",
    "\n",
    "class Test1:\n",
    "    def __init__(self):\n",
    "        self.a=100\n",
    "        self._a=200\n",
    "        self.__a=300\n",
    "    def show1(self):\n",
    "        print(self.a)\n",
    "        print(self._a)\n",
    "        print(self.__a)\n",
    "class Test2(Test1):\n",
    "    def show2(self):\n",
    "        print(self.a)\n",
    "        print(self._a)\n",
    "        # print(self.__a)  -- this will throw error\n",
    "class Test3(Test2):\n",
    "    def show3(self):\n",
    "        print(self.a)\n",
    "        print(self._a)\n",
    "        print(self._Test1__a)  # to access private variable-- mangling\n",
    "\n",
    "obj1 = Test1()\n",
    "obj1.show1()\n",
    "obj2 = Test2()\n",
    "obj2.show2()\n",
    "obj3 = Test3()\n",
    "obj3.show3()\n",
    "\n",
    "    "
   ]
  },
  {
   "cell_type": "code",
   "execution_count": 99,
   "id": "0912053a-e108-4289-8ce6-82ceccf82ee4",
   "metadata": {},
   "outputs": [
    {
     "name": "stdout",
     "output_type": "stream",
     "text": [
      "Employee is working\n",
      "3000\n",
      "HR is Working\n",
      "HR Manager's salary is: 5000\n",
      "Employee added: Eren Yeager\n",
      "Showing employee details\n"
     ]
    }
   ],
   "source": [
    "# Write a Python program to create a class called Employee\n",
    "# with methods called work() and getSalary() (in getSalary()\n",
    "# assign salary in HRManager constructor).\n",
    "# Create a subclass called HRManager that overrides the\n",
    "# work() method and adds a new method called addEmployee().\n",
    "# showEmployee()\n",
    "\n",
    "class Employee:\n",
    "    def __init__(self, salary, name):\n",
    "        self.salary = salary\n",
    "        self.name = name\n",
    "\n",
    "    def work(self):\n",
    "        print(\"Employee is working\")\n",
    "\n",
    "    def getSalary(self):\n",
    "        return self.salary\n",
    "\n",
    "class HRManager(Employee):\n",
    "    def __init__(self):\n",
    "        super().__init__(5000, \"HR Manager\") \n",
    "    def work(self):\n",
    "        print(\"HR is Working\")\n",
    "\n",
    "    def getSalary(self): \n",
    "        print(f\"HR Manager's salary is: {self.salary}\")\n",
    "\n",
    "    def addEmployee(self, name):\n",
    "        print(f\"Employee added: {name}\")\n",
    "\n",
    "    def showEmployee(self):\n",
    "        print(\"Showing employee details\")\n",
    "\n",
    "# Example usage\n",
    "obj = Employee(3000, \"Levi Ackerman\")\n",
    "obj.work()                \n",
    "print(obj.getSalary()) \n",
    "obj1 = HRManager()        \n",
    "obj1.work()               \n",
    "obj1.getSalary()          \n",
    "obj1.addEmployee(\"Eren Yeager\")  \n",
    "obj1.showEmployee()"
   ]
  },
  {
   "cell_type": "code",
   "execution_count": null,
   "id": "4e952df8-fef7-49aa-aa7d-2983548c943d",
   "metadata": {},
   "outputs": [],
   "source": []
  },
  {
   "cell_type": "code",
   "execution_count": 17,
   "id": "20f634c4-116e-4a01-be82-147f50db990a",
   "metadata": {},
   "outputs": [
    {
     "name": "stdout",
     "output_type": "stream",
     "text": [
      "\n",
      "--- Banking System Menu ---\n",
      "1. Create Account\n",
      "2. Deposit Money\n",
      "3. Withdraw Money\n",
      "4. Check Balance\n",
      "5. View Transaction History\n",
      "6. Exit\n"
     ]
    },
    {
     "name": "stdin",
     "output_type": "stream",
     "text": [
      "Enter your choice:  asd\n"
     ]
    },
    {
     "name": "stdout",
     "output_type": "stream",
     "text": [
      "Invalid choice. Please try again.\n",
      "\n",
      "--- Banking System Menu ---\n",
      "1. Create Account\n",
      "2. Deposit Money\n",
      "3. Withdraw Money\n",
      "4. Check Balance\n",
      "5. View Transaction History\n",
      "6. Exit\n"
     ]
    },
    {
     "name": "stdin",
     "output_type": "stream",
     "text": [
      "Enter your choice:  6\n"
     ]
    },
    {
     "name": "stdout",
     "output_type": "stream",
     "text": [
      "Exiting the system. Goodbye!\n"
     ]
    }
   ],
   "source": [
    "\n",
    "from abc import ABC, abstractmethod\n",
    "from datetime import datetime\n",
    "import uuid\n",
    "\n",
    "# Person Class\n",
    "class Person:\n",
    "    def init(self, name, address, phone):\n",
    "        self._name = name\n",
    "        self._address = address\n",
    "        self._phone = phone\n",
    "    \n",
    "    def get_details(self):\n",
    "        return {\n",
    "            \"Name\": self._name,\n",
    "            \"Address\": self._address,\n",
    "            \"Phone\": self._phone\n",
    "        }\n",
    "\n",
    "# Abstract Account Class\n",
    "class Account(ABC):\n",
    "    def init(self, owner, balance=0.0):\n",
    "        self._account_number = str(uuid.uuid4())\n",
    "        self._balance = balance\n",
    "        self._owner = owner\n",
    "        self._transaction_history = []\n",
    "\n",
    "    @abstractmethod\n",
    "    def deposit(self, amount):\n",
    "        pass\n",
    "\n",
    "    @abstractmethod\n",
    "    def withdraw(self, amount):\n",
    "        pass\n",
    "\n",
    "    def get_balance(self):\n",
    "        return self._balance\n",
    "\n",
    "    def show_account_details(self):\n",
    "        return {\n",
    "            \"Account Number\": self._account_number,\n",
    "            \"Balance\": self._balance,\n",
    "            \"Owner\": self._owner.get_details()\n",
    "        }\n",
    "\n",
    "# Customer Class (inherits from Person)\n",
    "class Customer(Person):\n",
    "    def init(self, name, address, phone):\n",
    "        super().init(name, address, phone)\n",
    "        self.accounts = []\n",
    "\n",
    "    def add_account(self, account):\n",
    "        self.accounts.append(account)\n",
    "\n",
    "    def get_accounts_summary(self):\n",
    "        summary = [account.show_account_details() for account in self.accounts]\n",
    "        return summary\n",
    "\n",
    "# SavingsAccount Class (inherits from Account)\n",
    "class SavingsAccount(Account):\n",
    "    def init(self, owner, balance=0.0, interest_rate=0.03):\n",
    "        super().init(owner, balance)\n",
    "        self._interest_rate = interest_rate\n",
    "\n",
    "    def deposit(self, amount):\n",
    "        if amount > 0:\n",
    "            self._balance += amount\n",
    "            self._transaction_history.append(Transaction(\"Deposit\", amount, self._balance))\n",
    "            print(f\"Deposited ${amount} to SavingsAccount. New Balance: ${self._balance}\")\n",
    "        else:\n",
    "            print(\"Invalid deposit amount.\")\n",
    "\n",
    "    def withdraw(self, amount):\n",
    "        if 0 < amount <= self._balance:\n",
    "            self._balance -= amount\n",
    "            self._transaction_history.append(Transaction(\"Withdrawal\", amount, self._balance))\n",
    "            print(f\"Withdrew ${amount} from SavingsAccount. New Balance: ${self._balance}\")\n",
    "        else:\n",
    "            print(\"Insufficient funds or invalid amount.\")\n",
    "\n",
    "    def apply_interest(self):\n",
    "        interest = self._balance * self._interest_rate\n",
    "        self._balance += interest\n",
    "        print(f\"Applied interest. New Balance: ${self._balance}\")\n",
    "\n",
    "# BusinessAccount Class (inherits from Account)\n",
    "class BusinessAccount(Account):\n",
    "    def init(self, owner, balance=0.0, overdraft_limit=500.0):\n",
    "        super().init(owner, balance)\n",
    "        self._overdraft_limit = overdraft_limit\n",
    "\n",
    "    def deposit(self, amount):\n",
    "        if amount > 0:\n",
    "            self._balance += amount\n",
    "            self._transaction_history.append(Transaction(\"Deposit\", amount, self._balance))\n",
    "            print(f\"Deposited ${amount} to BusinessAccount. New Balance: ${self._balance}\")\n",
    "        else:\n",
    "            print(\"Invalid deposit amount.\")\n",
    "\n",
    "    def withdraw(self, amount):\n",
    "        if amount <= self._balance + self._overdraft_limit:\n",
    "            self._balance -= amount\n",
    "            self._transaction_history.append(Transaction(\"Withdrawal\", amount, self._balance))\n",
    "            print(f\"Withdrew ${amount} from BusinessAccount. New Balance: ${self._balance}\")\n",
    "        else:\n",
    "            print(\"Overdraft limit exceeded.\")\n",
    "\n",
    "# Transaction Class\n",
    "class Transaction:\n",
    "    def init(self, transaction_type, amount, balance_after_transaction):\n",
    "        self.transaction_id = str(uuid.uuid4())\n",
    "        self.transaction_type = transaction_type\n",
    "        self.amount = amount\n",
    "        self.date = datetime.now()\n",
    "        self.balance_after_transaction = balance_after_transaction\n",
    "\n",
    "def get_transaction_details(self):\n",
    "        return {\n",
    "            \"Transaction ID\": self.transaction_id,\n",
    "            \"Type\": self.transaction_type,\n",
    "            \"Amount\": self.amount,\n",
    "            \"Date\": self.date,\n",
    "            \"Balance After Transaction\": self.balance_after_transaction\n",
    "        }\n",
    "\n",
    "# Bank Class\n",
    "class Bank:\n",
    "    def init(self):\n",
    "        self.customers = []\n",
    "\n",
    "    def create_customer_account(self, name, address, phone, account_type, **kwargs):\n",
    "        customer = Customer(name, address, phone)\n",
    "        if account_type == \"Savings\":\n",
    "            account = SavingsAccount(customer, kwargs.get('balance', 0.0), kwargs.get('interest_rate', 0.03))\n",
    "        elif account_type == \"Business\":\n",
    "            account = BusinessAccount(customer, kwargs.get('balance', 0.0), kwargs.get('overdraft_limit', 500.0))\n",
    "        else:\n",
    "            print(\"Invalid account type.\")\n",
    "            return None\n",
    "        customer.add_account(account)\n",
    "        self.customers.append(customer)\n",
    "        print(f\"{account_type} account created for {name} with account number {account._account_number}\")\n",
    "        return account\n",
    "\n",
    "    def find_account(self, account_number):\n",
    "        for customer in self.customers:\n",
    "            for account in customer.accounts:\n",
    "                if account._account_number == account_number:\n",
    "                    return account\n",
    "        return None\n",
    "\n",
    "    def view_transaction_history(self, account):\n",
    "        for transaction in account._transaction_history:\n",
    "            print(transaction.get_transaction_details())\n",
    "\n",
    "# Main Menu Function\n",
    "def main_menu():\n",
    "    bank = Bank()\n",
    "    while True:\n",
    "        print(\"\\n--- Banking System Menu ---\")\n",
    "        print(\"1. Create Account\")\n",
    "        print(\"2. Deposit Money\")\n",
    "        print(\"3. Withdraw Money\")\n",
    "        print(\"4. Check Balance\")\n",
    "        print(\"5. View Transaction History\")\n",
    "        print(\"6. Exit\")\n",
    "        choice = input(\"Enter your choice: \")\n",
    "\n",
    "        if choice == '1':\n",
    "            name = input(\"Enter customer name: \")\n",
    "            address = input(\"Enter address: \")\n",
    "            phone = input(\"Enter phone number: \")\n",
    "            account_type = input(\"Enter account type (Savings/Business): \")\n",
    "            balance = float(input(\"Enter initial deposit amount: \"))\n",
    "            if account_type == \"Savings\":\n",
    "                interest_rate = float(input(\"Enter interest rate: \"))\n",
    "                bank.create_customer_account(name, address, phone, account_type, balance=balance, interest_rate=interest_rate)\n",
    "            elif account_type == \"Business\":\n",
    "                overdraft_limit = float(input(\"Enter overdraft limit: \"))\n",
    "                bank.create_customer_account(name, address, phone, account_type, balance=balance, overdraft_limit=overdraft_limit)\n",
    "            else:\n",
    "                print(\"Invalid account type.\")\n",
    "\n",
    "        elif choice == '2':\n",
    "            account_number = input(\"Enter account number: \")\n",
    "            account = bank.find_account(account_number)\n",
    "            if account:\n",
    "                amount = float(input(\"Enter deposit amount: \"))\n",
    "                account.deposit(amount)\n",
    "            else:\n",
    "                print(\"Account not found.\")\n",
    "\n",
    "        elif choice == '3':\n",
    "            account_number = input(\"Enter account number: \")\n",
    "            account = bank.find_account(account_number)\n",
    "            if account:\n",
    "                amount = float(input(\"Enter withdrawal amount: \"))\n",
    "                account.withdraw(amount)\n",
    "            else:\n",
    "                print(\"Account not found.\")\n",
    "\n",
    "        elif choice == '4':\n",
    "            account_number = input(\"Enter account number: \")\n",
    "            account = bank.find_account(account_number)\n",
    "            if account:\n",
    "                print(\"Current Balance:\", account.get_balance())\n",
    "            else:\n",
    "                print(\"Account not found.\")\n",
    "\n",
    "        elif choice == '5':\n",
    "            account_number = input(\"Enter account number: \")\n",
    "            account = bank.find_account(account_number)\n",
    "            if account:\n",
    "                bank.view_transaction_history(account)\n",
    "            else:\n",
    "                print(\"Account not found.\")\n",
    "\n",
    "        elif choice == '6':\n",
    "            print(\"Exiting the system. Goodbye!\")\n",
    "            break\n",
    "\n",
    "        else:\n",
    "            print(\"Invalid choice. Please try again.\")\n",
    "\n",
    "# Run the main menu\n",
    "main_menu()"
   ]
  },
  {
   "cell_type": "code",
   "execution_count": 27,
   "id": "26b7a917-ac9e-41ee-ac94-85d1627740fc",
   "metadata": {},
   "outputs": [
    {
     "name": "stdout",
     "output_type": "stream",
     "text": [
      "4\n"
     ]
    }
   ],
   "source": [
    "a = [1,0,1,0,0,1,1,1,1,0,0,0,1]\n",
    "count=0\n",
    "max=0\n",
    "for i in a:\n",
    "    if i==1:\n",
    "        count=count+1\n",
    "        if count>max:\n",
    "            max = count\n",
    "    else:\n",
    "        count=0\n",
    "\n",
    "print(max)"
   ]
  },
  {
   "cell_type": "code",
   "execution_count": 39,
   "id": "28d412b8-5a80-437a-94bd-021ba80f0440",
   "metadata": {},
   "outputs": [
    {
     "name": "stdout",
     "output_type": "stream",
     "text": [
      "[[1, 2, 3], [4, 5, 6], [7, 8]]\n"
     ]
    }
   ],
   "source": [
    "a = [1,2,3,4,5,6,7,8]\n",
    "ans = []\n",
    "k = 3\n",
    "x = 0\n",
    "temp=[]\n",
    "for i in a:\n",
    "    temp.append(i)\n",
    "    x=x+1\n",
    "    if x==k:\n",
    "        ans.append(temp)\n",
    "        temp=[]\n",
    "        x=0\n",
    "\n",
    "if len(a)%k != 0:\n",
    "    temp=[]\n",
    "    n = len(a) - (len(a)%k)\n",
    "    for i in range(n,len(a)):\n",
    "        temp.append(a[i])\n",
    "ans.append(temp)    \n",
    "print(ans)"
   ]
  },
  {
   "cell_type": "code",
   "execution_count": 21,
   "id": "2875a8cb-3d7f-4d33-a359-85d37c78b8e4",
   "metadata": {},
   "outputs": [
    {
     "name": "stdout",
     "output_type": "stream",
     "text": [
      "Yes\n",
      "Yes\n"
     ]
    }
   ],
   "source": [
    "# Automorphic Number\n",
    "\n",
    "n = 376\n",
    "sq = n*n\n",
    "temp=sq\n",
    "f = False\n",
    "while(n>0):\n",
    "    if n%10 == temp%10:\n",
    "        f = True\n",
    "    else:\n",
    "        f = False\n",
    "        break\n",
    "    n=n//10\n",
    "    temp=temp//10\n",
    "\n",
    "if f == True:\n",
    "    print(\"Yes\")\n",
    "else:\n",
    "    print(\"No\")\n",
    "\n",
    "\n",
    "num=n\n",
    "sq=num**2\n",
    "sq_str=str(sq)\n",
    "num_str=str(num)  \n",
    "if sq_str[-len(num_str):]==num_str:\n",
    "    print(\"Yes\")\n",
    "else:\n",
    "    print(\"No\")"
   ]
  },
  {
   "cell_type": "code",
   "execution_count": null,
   "id": "bb5e2bf2-fa8b-43fc-80b0-b886aebf0d31",
   "metadata": {},
   "outputs": [],
   "source": []
  }
 ],
 "metadata": {
  "kernelspec": {
   "display_name": "Python 3 (ipykernel)",
   "language": "python",
   "name": "python3"
  },
  "language_info": {
   "codemirror_mode": {
    "name": "ipython",
    "version": 3
   },
   "file_extension": ".py",
   "mimetype": "text/x-python",
   "name": "python",
   "nbconvert_exporter": "python",
   "pygments_lexer": "ipython3",
   "version": "3.12.4"
  }
 },
 "nbformat": 4,
 "nbformat_minor": 5
}
